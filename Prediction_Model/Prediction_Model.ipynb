{
 "cells": [
  {
   "cell_type": "markdown",
   "id": "58e019d0",
   "metadata": {},
   "source": [
    "### Predictive Analysis"
   ]
  },
  {
   "cell_type": "code",
   "execution_count": 2,
   "id": "d1504527",
   "metadata": {},
   "outputs": [],
   "source": [
    "import warnings\n",
    "warnings.filterwarnings('ignore') "
   ]
  },
  {
   "cell_type": "code",
   "execution_count": 3,
   "id": "dea7506a",
   "metadata": {},
   "outputs": [
    {
     "name": "stdout",
     "output_type": "stream",
     "text": [
      "Accuracy: 0.8619941794724452\n",
      "\n",
      "Classification Report:\n",
      "              precision    recall  f1-score   support\n",
      "\n",
      "           0       0.86      1.00      0.93     46118\n",
      "           1       0.82      0.06      0.12      7829\n",
      "\n",
      "    accuracy                           0.86     53947\n",
      "   macro avg       0.84      0.53      0.52     53947\n",
      "weighted avg       0.86      0.86      0.81     53947\n",
      "\n"
     ]
    }
   ],
   "source": [
    "import pandas as pd\n",
    "from sklearn.model_selection import train_test_split, GridSearchCV\n",
    "from sklearn.preprocessing import StandardScaler, LabelEncoder\n",
    "from sklearn.ensemble import RandomForestClassifier\n",
    "from sklearn.metrics import accuracy_score, classification_report\n",
    "#Using the cleaned dataset \n",
    "df=pd.read_csv('merged_olympics.csv')\n",
    "#Feature engineering \n",
    "athlete_features=['Age', 'Height', 'Weight']\n",
    "sport_features=['Sport']\n",
    "country_features=['Team']\n",
    "#Feature selection and preparation\n",
    "X=df[athlete_features + sport_features + country_features]\n",
    "def medal_to_binary(medal_str):\n",
    "    if medal_str in [\"Gold\", \"Silver\", \"Bronze\"]:\n",
    "        return 1\n",
    "    else:\n",
    "        return 0\n",
    "df['Medal_Win']=df['Medal'].apply(medal_to_binary)\n",
    "y=df['Medal_Win']\n",
    "#Preprocessing categorical features\n",
    "le=LabelEncoder()\n",
    "for col in X.select_dtypes(include=['object']):\n",
    "    X[col]=le.fit_transform(X[col])\n",
    "#Feature scaling\n",
    "scaler=StandardScaler()\n",
    "X_scaled=scaler.fit_transform(X)\n",
    "#Splitting into training and testing\n",
    "X_train, X_test, y_train, y_test = train_test_split(X_scaled, y, test_size=0.2, random_state=42)\n",
    "#Model definition and hyperparameter tuning\n",
    "model=RandomForestClassifier(random_state=42)\n",
    "#Hyperparameter tuning with GridSearchCV \n",
    "param_grid={'n_estimators': [100, 200], 'max_depth': [5, 10]}\n",
    "grid_search=GridSearchCV(model, param_grid, cv=5, scoring='accuracy')\n",
    "grid_search.fit(X_train, y_train)\n",
    "model=grid_search.best_estimator_\n",
    "model.fit(X_train, y_train)\n",
    "#Prediction on test set\n",
    "y_pred=model.predict(X_test)\n",
    "accuracy=accuracy_score(y_test, y_pred)\n",
    "print(\"Accuracy:\", accuracy)\n",
    "print(\"\\nClassification Report:\")\n",
    "print(classification_report(y_test, y_pred))"
   ]
  },
  {
   "cell_type": "markdown",
   "id": "8ed9a914",
   "metadata": {},
   "source": [
    "The accuracy score calculates the percentage of correct predictions made by the model on the test data. The classification report provides a more detailed breakdown of the model’s performance, which includes precision, recall, F1-score and support for each class(“Medal Win” and “No Medal Win”). \n",
    "\n",
    "This code offers a framework for developing a machine learning model that uses a Random Forest Classifier to forecast medal winners in Olympic data. It trains the model, assesses its performance, and completes the necessary data preparation procedures."
   ]
  },
  {
   "cell_type": "code",
   "execution_count": null,
   "id": "0be50c67",
   "metadata": {},
   "outputs": [],
   "source": []
  }
 ],
 "metadata": {
  "kernelspec": {
   "display_name": "Python 3 (ipykernel)",
   "language": "python",
   "name": "python3"
  },
  "language_info": {
   "codemirror_mode": {
    "name": "ipython",
    "version": 3
   },
   "file_extension": ".py",
   "mimetype": "text/x-python",
   "name": "python",
   "nbconvert_exporter": "python",
   "pygments_lexer": "ipython3",
   "version": "3.9.12"
  }
 },
 "nbformat": 4,
 "nbformat_minor": 5
}
